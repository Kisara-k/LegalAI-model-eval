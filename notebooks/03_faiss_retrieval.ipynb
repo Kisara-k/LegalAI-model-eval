{
 "cells": [
  {
   "cell_type": "markdown",
   "id": "c589b09e",
   "metadata": {},
   "source": [
    "# FAISS Retrieval Evaluation (CPU)\n",
    "\n",
    "This notebook evaluates FAISS retrieval using pre-built indices.\n",
    "\n",
    "**Can run on CPU** - indices are loaded from disk.\n",
    "\n",
    "Evaluates:\n",
    "- 3 embedding models (Legal-BERT, GTE-Large, BGE-Large)\n",
    "- 2 fields (content, metadata)\n",
    "- All 10 legal queries\n",
    "\n",
    "Total: 6 retrieval configurations"
   ]
  },
  {
   "cell_type": "code",
   "execution_count": 1,
   "id": "fa63fe8d",
   "metadata": {},
   "outputs": [
    {
     "name": "stdout",
     "output_type": "stream",
     "text": [
      "✓ Imports successful\n"
     ]
    }
   ],
   "source": [
    "import sys\n",
    "sys.path.append('..')\n",
    "\n",
    "import pandas as pd\n",
    "import numpy as np\n",
    "import matplotlib.pyplot as plt\n",
    "import seaborn as sns\n",
    "import json\n",
    "from pathlib import Path\n",
    "\n",
    "from src.data_loader import load_data, prepare_data, get_documents_by_field\n",
    "from src.queries import get_all_queries\n",
    "from src.faiss_retriever import FAISSRetriever, evaluate_faiss\n",
    "from src.evaluation import (\n",
    "    print_query_results, \n",
    "    create_comparison_table,\n",
    "    calculate_overlap,\n",
    "    analyze_retrieval_diversity\n",
    ")\n",
    "from src.config import EMBEDDING_MODELS, INDICES_DIR, RESULTS_DIR, TOP_K\n",
    "\n",
    "sns.set_style('whitegrid')\n",
    "print(\"✓ Imports successful\")"
   ]
  },
  {
   "cell_type": "markdown",
   "id": "b94b70f7",
   "metadata": {},
   "source": [
    "## 1. Load and Prepare Data"
   ]
  },
  {
   "cell_type": "code",
   "execution_count": 2,
   "id": "a759e235",
   "metadata": {},
   "outputs": [
    {
     "name": "stdout",
     "output_type": "stream",
     "text": [
      "Loading data from d:\\Core\\_Code D\\LegalAI-model-eval\\notebooks\\..\\data\\acts_with_metadata.tsv...\n",
      "Loaded 7067 records\n",
      "Creating metadata field...\n",
      "Metadata field created\n",
      "Loaded 7067 documents and 10 queries\n"
     ]
    }
   ],
   "source": [
    "# Load data\n",
    "df = load_data()\n",
    "df = prepare_data(df)\n",
    "\n",
    "# Get queries\n",
    "queries = get_all_queries()\n",
    "print(f\"Loaded {len(df)} documents and {len(queries)} queries\")"
   ]
  },
  {
   "cell_type": "markdown",
   "id": "a76d6099",
   "metadata": {},
   "source": [
    "## 2. Verify Indices Exist"
   ]
  },
  {
   "cell_type": "code",
   "execution_count": 3,
   "id": "ea8a7769",
   "metadata": {},
   "outputs": [
    {
     "name": "stdout",
     "output_type": "stream",
     "text": [
      "Available FAISS Indices:\n",
      "================================================================================\n",
      "✓ content_legal-bert\n",
      "✓ metadata_legal-bert\n",
      "✓ content_gte-large\n",
      "✓ metadata_gte-large\n",
      "✓ content_bge-large\n",
      "✓ metadata_bge-large\n",
      "✓ content_bge-m3\n",
      "✓ metadata_bge-m3\n",
      "\n",
      "Total available: 8 / 6\n"
     ]
    }
   ],
   "source": [
    "# Check which indices are available\n",
    "available_indices = []\n",
    "\n",
    "print(\"Available FAISS Indices:\")\n",
    "print(\"=\"*80)\n",
    "\n",
    "for model_key in EMBEDDING_MODELS.keys():\n",
    "    for field in ['content', 'metadata']:\n",
    "        index_dir = INDICES_DIR / f\"{field}_{model_key}\"\n",
    "        index_file = index_dir / \"index.faiss\"\n",
    "        \n",
    "        if index_file.exists():\n",
    "            available_indices.append((model_key, field))\n",
    "            print(f\"✓ {field}_{model_key}\")\n",
    "        else:\n",
    "            print(f\"✗ {field}_{model_key} - NOT FOUND\")\n",
    "\n",
    "print(f\"\\nTotal available: {len(available_indices)} / 6\")\n",
    "\n",
    "if len(available_indices) == 0:\n",
    "    print(\"\\n⚠️ ERROR: No indices found!\")\n",
    "    print(\"Please run notebook 03 (FAISS Index Builder) first.\")"
   ]
  },
  {
   "cell_type": "markdown",
   "id": "9261aedf",
   "metadata": {},
   "source": [
    "## 3. Run FAISS Retrieval for All Models"
   ]
  },
  {
   "cell_type": "code",
   "execution_count": 4,
   "id": "5e4eae1d",
   "metadata": {},
   "outputs": [
    {
     "name": "stdout",
     "output_type": "stream",
     "text": [
      "\n",
      "================================================================================\n",
      "Evaluating: legal-bert on content\n",
      "================================================================================\n",
      "\n",
      "================================================================================\n",
      "FAISS EVALUATION - LEGAL-BERT - CONTENT\n",
      "================================================================================\n",
      "\n",
      "Loading model: nlpaueb/legal-bert-base-uncased\n",
      "Library: sentence-transformers\n",
      "Device: cpu\n"
     ]
    },
    {
     "name": "stderr",
     "output_type": "stream",
     "text": [
      "No sentence-transformers model found with name nlpaueb/legal-bert-base-uncased. Creating a new one with mean pooling.\n"
     ]
    },
    {
     "name": "stdout",
     "output_type": "stream",
     "text": [
      "Loading index from d:\\Core\\_Code D\\LegalAI-model-eval\\notebooks\\..\\indices\\content_legal-bert\\index.faiss...\n",
      "Index loaded with 7067 vectors\n",
      "Model: nlpaueb/legal-bert-base-uncased\n",
      "Dimension: 768\n",
      "Processing query 1/10: What are the procedures for presidential elections...\n",
      "Processing query 2/10: What are the tax obligations and payment requireme...\n",
      "Processing query 3/10: What are the penalty provisions for bribery and un...\n",
      "Processing query 4/10: What is the process for filing appeals to the Boar...\n",
      "Processing query 5/10: What are the voting procedures and ballot requirem...\n",
      "Processing query 6/10: How are taxes assessed and collected, and what pow...\n",
      "Processing query 7/10: What are the establishment provisions and governan...\n",
      "Processing query 8/10: What are the import duty requirements and customs ...\n",
      "Processing query 9/10: What is the nomination process and requirements fo...\n",
      "Processing query 10/10: What are the powers and functions of the Commissio...\n",
      "\n",
      "Results:\n",
      "  Average retrieval time: 0.0798 seconds\n",
      "  Total queries: 10\n",
      "================================================================================\n",
      "\n",
      "Results saved to: d:\\Core\\_Code D\\LegalAI-model-eval\\notebooks\\..\\results\\faiss_legal-bert_content_results.json\n",
      "\n",
      "================================================================================\n",
      "Evaluating: legal-bert on metadata\n",
      "================================================================================\n",
      "\n",
      "================================================================================\n",
      "FAISS EVALUATION - LEGAL-BERT - METADATA\n",
      "================================================================================\n",
      "\n",
      "Loading model: nlpaueb/legal-bert-base-uncased\n",
      "Library: sentence-transformers\n",
      "Device: cpu\n"
     ]
    },
    {
     "name": "stderr",
     "output_type": "stream",
     "text": [
      "No sentence-transformers model found with name nlpaueb/legal-bert-base-uncased. Creating a new one with mean pooling.\n"
     ]
    },
    {
     "name": "stdout",
     "output_type": "stream",
     "text": [
      "Loading index from d:\\Core\\_Code D\\LegalAI-model-eval\\notebooks\\..\\indices\\metadata_legal-bert\\index.faiss...\n",
      "Index loaded with 7067 vectors\n",
      "Model: nlpaueb/legal-bert-base-uncased\n",
      "Dimension: 768\n",
      "Processing query 1/10: What are the procedures for presidential elections...\n",
      "Processing query 2/10: What are the tax obligations and payment requireme...\n",
      "Processing query 3/10: What are the penalty provisions for bribery and un...\n",
      "Processing query 4/10: What is the process for filing appeals to the Boar...\n",
      "Processing query 5/10: What are the voting procedures and ballot requirem...\n",
      "Processing query 6/10: How are taxes assessed and collected, and what pow...\n",
      "Processing query 7/10: What are the establishment provisions and governan...\n",
      "Processing query 8/10: What are the import duty requirements and customs ...\n",
      "Processing query 9/10: What is the nomination process and requirements fo...\n",
      "Processing query 10/10: What are the powers and functions of the Commissio...\n",
      "\n",
      "Results:\n",
      "  Average retrieval time: 0.0738 seconds\n",
      "  Total queries: 10\n",
      "================================================================================\n",
      "\n",
      "Results saved to: d:\\Core\\_Code D\\LegalAI-model-eval\\notebooks\\..\\results\\faiss_legal-bert_metadata_results.json\n",
      "\n",
      "================================================================================\n",
      "Evaluating: gte-large on content\n",
      "================================================================================\n",
      "\n",
      "================================================================================\n",
      "FAISS EVALUATION - GTE-LARGE - CONTENT\n",
      "================================================================================\n",
      "\n",
      "Loading model: thenlper/gte-large\n",
      "Library: sentence-transformers\n",
      "Device: cpu\n",
      "Loading index from d:\\Core\\_Code D\\LegalAI-model-eval\\notebooks\\..\\indices\\content_gte-large\\index.faiss...\n",
      "Index loaded with 7067 vectors\n",
      "Model: thenlper/gte-large\n",
      "Dimension: 1024\n",
      "Processing query 1/10: What are the procedures for presidential elections...\n",
      "Processing query 2/10: What are the tax obligations and payment requireme...\n",
      "Processing query 3/10: What are the penalty provisions for bribery and un...\n",
      "Processing query 4/10: What is the process for filing appeals to the Boar...\n",
      "Processing query 5/10: What are the voting procedures and ballot requirem...\n",
      "Processing query 6/10: How are taxes assessed and collected, and what pow...\n",
      "Processing query 7/10: What are the establishment provisions and governan...\n",
      "Processing query 8/10: What are the import duty requirements and customs ...\n",
      "Processing query 9/10: What is the nomination process and requirements fo...\n",
      "Processing query 10/10: What are the powers and functions of the Commissio...\n",
      "\n",
      "Results:\n",
      "  Average retrieval time: 0.2683 seconds\n",
      "  Total queries: 10\n",
      "================================================================================\n",
      "\n",
      "Results saved to: d:\\Core\\_Code D\\LegalAI-model-eval\\notebooks\\..\\results\\faiss_gte-large_content_results.json\n",
      "\n",
      "================================================================================\n",
      "Evaluating: gte-large on metadata\n",
      "================================================================================\n",
      "\n",
      "================================================================================\n",
      "FAISS EVALUATION - GTE-LARGE - METADATA\n",
      "================================================================================\n",
      "\n",
      "Loading model: thenlper/gte-large\n",
      "Library: sentence-transformers\n",
      "Device: cpu\n",
      "Loading index from d:\\Core\\_Code D\\LegalAI-model-eval\\notebooks\\..\\indices\\metadata_gte-large\\index.faiss...\n",
      "Index loaded with 7067 vectors\n",
      "Model: thenlper/gte-large\n",
      "Dimension: 1024\n",
      "Processing query 1/10: What are the procedures for presidential elections...\n",
      "Processing query 2/10: What are the tax obligations and payment requireme...\n",
      "Processing query 3/10: What are the penalty provisions for bribery and un...\n",
      "Processing query 4/10: What is the process for filing appeals to the Boar...\n",
      "Processing query 5/10: What are the voting procedures and ballot requirem...\n",
      "Processing query 6/10: How are taxes assessed and collected, and what pow...\n",
      "Processing query 7/10: What are the establishment provisions and governan...\n",
      "Processing query 8/10: What are the import duty requirements and customs ...\n",
      "Processing query 9/10: What is the nomination process and requirements fo...\n",
      "Processing query 10/10: What are the powers and functions of the Commissio...\n",
      "\n",
      "Results:\n",
      "  Average retrieval time: 0.2996 seconds\n",
      "  Total queries: 10\n",
      "================================================================================\n",
      "\n",
      "Results saved to: d:\\Core\\_Code D\\LegalAI-model-eval\\notebooks\\..\\results\\faiss_gte-large_metadata_results.json\n",
      "\n",
      "================================================================================\n",
      "Evaluating: bge-large on content\n",
      "================================================================================\n",
      "\n",
      "================================================================================\n",
      "FAISS EVALUATION - BGE-LARGE - CONTENT\n",
      "================================================================================\n",
      "\n",
      "Loading model: BAAI/bge-large-en-v1.5\n",
      "Library: sentence-transformers\n",
      "Device: cpu\n",
      "Loading index from d:\\Core\\_Code D\\LegalAI-model-eval\\notebooks\\..\\indices\\content_bge-large\\index.faiss...\n",
      "Index loaded with 7067 vectors\n",
      "Model: BAAI/bge-large-en-v1.5\n",
      "Dimension: 1024\n",
      "Processing query 1/10: What are the procedures for presidential elections...\n",
      "Processing query 2/10: What are the tax obligations and payment requireme...\n",
      "Processing query 3/10: What are the penalty provisions for bribery and un...\n",
      "Processing query 4/10: What is the process for filing appeals to the Boar...\n",
      "Processing query 5/10: What are the voting procedures and ballot requirem...\n",
      "Processing query 6/10: How are taxes assessed and collected, and what pow...\n",
      "Processing query 7/10: What are the establishment provisions and governan...\n",
      "Processing query 8/10: What are the import duty requirements and customs ...\n",
      "Processing query 9/10: What is the nomination process and requirements fo...\n",
      "Processing query 10/10: What are the powers and functions of the Commissio...\n",
      "\n",
      "Results:\n",
      "  Average retrieval time: 0.4730 seconds\n",
      "  Total queries: 10\n",
      "================================================================================\n",
      "\n",
      "Results saved to: d:\\Core\\_Code D\\LegalAI-model-eval\\notebooks\\..\\results\\faiss_bge-large_content_results.json\n",
      "\n",
      "================================================================================\n",
      "Evaluating: bge-large on metadata\n",
      "================================================================================\n",
      "\n",
      "================================================================================\n",
      "FAISS EVALUATION - BGE-LARGE - METADATA\n",
      "================================================================================\n",
      "\n",
      "Loading model: BAAI/bge-large-en-v1.5\n",
      "Library: sentence-transformers\n",
      "Device: cpu\n",
      "Loading index from d:\\Core\\_Code D\\LegalAI-model-eval\\notebooks\\..\\indices\\metadata_bge-large\\index.faiss...\n",
      "Index loaded with 7067 vectors\n",
      "Model: BAAI/bge-large-en-v1.5\n",
      "Dimension: 1024\n",
      "Processing query 1/10: What are the procedures for presidential elections...\n",
      "Processing query 2/10: What are the tax obligations and payment requireme...\n",
      "Processing query 3/10: What are the penalty provisions for bribery and un...\n",
      "Processing query 4/10: What is the process for filing appeals to the Boar...\n",
      "Processing query 5/10: What are the voting procedures and ballot requirem...\n",
      "Processing query 6/10: How are taxes assessed and collected, and what pow...\n",
      "Processing query 7/10: What are the establishment provisions and governan...\n",
      "Processing query 8/10: What are the import duty requirements and customs ...\n",
      "Processing query 9/10: What is the nomination process and requirements fo...\n",
      "Processing query 10/10: What are the powers and functions of the Commissio...\n",
      "\n",
      "Results:\n",
      "  Average retrieval time: 0.3311 seconds\n",
      "  Total queries: 10\n",
      "================================================================================\n",
      "\n",
      "Results saved to: d:\\Core\\_Code D\\LegalAI-model-eval\\notebooks\\..\\results\\faiss_bge-large_metadata_results.json\n",
      "\n",
      "================================================================================\n",
      "Evaluating: bge-m3 on content\n",
      "================================================================================\n",
      "\n",
      "================================================================================\n",
      "FAISS EVALUATION - BGE-M3 - CONTENT\n",
      "================================================================================\n",
      "\n",
      "Loading model: BAAI/bge-m3\n",
      "Library: flagembedding\n",
      "Device: cpu\n"
     ]
    },
    {
     "data": {
      "application/vnd.jupyter.widget-view+json": {
       "model_id": "32118d64c4b543f8a45996202bbc42a3",
       "version_major": 2,
       "version_minor": 0
      },
      "text/plain": [
       "Fetching 30 files:   0%|          | 0/30 [00:00<?, ?it/s]"
      ]
     },
     "metadata": {},
     "output_type": "display_data"
    },
    {
     "name": "stdout",
     "output_type": "stream",
     "text": [
      "Loading index from d:\\Core\\_Code D\\LegalAI-model-eval\\notebooks\\..\\indices\\content_bge-m3\\index.faiss...\n",
      "Index loaded with 7067 vectors\n",
      "Model: BAAI/bge-m3\n",
      "Dimension: 1024\n",
      "Processing query 1/10: What are the procedures for presidential elections...\n"
     ]
    },
    {
     "name": "stderr",
     "output_type": "stream",
     "text": [
      "pre tokenize: 100%|██████████| 1/1 [00:00<00:00, 372.40it/s]\n",
      "You're using a XLMRobertaTokenizerFast tokenizer. Please note that with a fast tokenizer, using the `__call__` method is faster than using a method to encode the text followed by a call to the `pad` method to get a padded encoding.\n",
      "Inference Embeddings: 100%|██████████| 1/1 [00:00<00:00,  3.51it/s]\n"
     ]
    },
    {
     "name": "stdout",
     "output_type": "stream",
     "text": [
      "Processing query 2/10: What are the tax obligations and payment requireme...\n"
     ]
    },
    {
     "name": "stderr",
     "output_type": "stream",
     "text": [
      "pre tokenize: 100%|██████████| 1/1 [00:00<00:00, 1179.83it/s]\n",
      "Inference Embeddings: 100%|██████████| 1/1 [00:00<00:00,  3.20it/s]\n"
     ]
    },
    {
     "name": "stdout",
     "output_type": "stream",
     "text": [
      "Processing query 3/10: What are the penalty provisions for bribery and un...\n"
     ]
    },
    {
     "name": "stderr",
     "output_type": "stream",
     "text": [
      "pre tokenize: 100%|██████████| 1/1 [00:00<00:00, 1097.41it/s]\n",
      "Inference Embeddings: 100%|██████████| 1/1 [00:00<00:00,  3.52it/s]\n"
     ]
    },
    {
     "name": "stdout",
     "output_type": "stream",
     "text": [
      "Processing query 4/10: What is the process for filing appeals to the Boar...\n"
     ]
    },
    {
     "name": "stderr",
     "output_type": "stream",
     "text": [
      "pre tokenize: 100%|██████████| 1/1 [00:00<00:00, 1337.90it/s]\n",
      "Inference Embeddings: 100%|██████████| 1/1 [00:00<00:00,  3.11it/s]\n"
     ]
    },
    {
     "name": "stdout",
     "output_type": "stream",
     "text": [
      "Processing query 5/10: What are the voting procedures and ballot requirem...\n"
     ]
    },
    {
     "name": "stderr",
     "output_type": "stream",
     "text": [
      "pre tokenize: 100%|██████████| 1/1 [00:00<00:00, 1074.64it/s]\n",
      "Inference Embeddings: 100%|██████████| 1/1 [00:00<00:00,  3.24it/s]\n"
     ]
    },
    {
     "name": "stdout",
     "output_type": "stream",
     "text": [
      "Processing query 6/10: How are taxes assessed and collected, and what pow...\n"
     ]
    },
    {
     "name": "stderr",
     "output_type": "stream",
     "text": [
      "pre tokenize: 100%|██████████| 1/1 [00:00<00:00, 848.71it/s]\n",
      "Inference Embeddings: 100%|██████████| 1/1 [00:00<00:00,  3.38it/s]\n"
     ]
    },
    {
     "name": "stdout",
     "output_type": "stream",
     "text": [
      "Processing query 7/10: What are the establishment provisions and governan...\n"
     ]
    },
    {
     "name": "stderr",
     "output_type": "stream",
     "text": [
      "pre tokenize: 100%|██████████| 1/1 [00:00<00:00, 979.29it/s]\n",
      "Inference Embeddings: 100%|██████████| 1/1 [00:00<00:00,  3.49it/s]\n"
     ]
    },
    {
     "name": "stdout",
     "output_type": "stream",
     "text": [
      "Processing query 8/10: What are the import duty requirements and customs ...\n"
     ]
    },
    {
     "name": "stderr",
     "output_type": "stream",
     "text": [
      "pre tokenize: 100%|██████████| 1/1 [00:00<00:00, 833.20it/s]\n",
      "Inference Embeddings: 100%|██████████| 1/1 [00:00<00:00,  3.45it/s]\n"
     ]
    },
    {
     "name": "stdout",
     "output_type": "stream",
     "text": [
      "Processing query 9/10: What is the nomination process and requirements fo...\n"
     ]
    },
    {
     "name": "stderr",
     "output_type": "stream",
     "text": [
      "pre tokenize: 100%|██████████| 1/1 [00:00<00:00, 1640.96it/s]\n",
      "Inference Embeddings: 100%|██████████| 1/1 [00:00<00:00,  3.62it/s]\n"
     ]
    },
    {
     "name": "stdout",
     "output_type": "stream",
     "text": [
      "Processing query 10/10: What are the powers and functions of the Commissio...\n"
     ]
    },
    {
     "name": "stderr",
     "output_type": "stream",
     "text": [
      "pre tokenize: 100%|██████████| 1/1 [00:00<00:00, 618.45it/s]\n",
      "Inference Embeddings: 100%|██████████| 1/1 [00:00<00:00,  3.19it/s]\n"
     ]
    },
    {
     "name": "stdout",
     "output_type": "stream",
     "text": [
      "\n",
      "Results:\n",
      "  Average retrieval time: 0.8045 seconds\n",
      "  Total queries: 10\n",
      "================================================================================\n",
      "\n",
      "Results saved to: d:\\Core\\_Code D\\LegalAI-model-eval\\notebooks\\..\\results\\faiss_bge-m3_content_results.json\n",
      "\n",
      "================================================================================\n",
      "Evaluating: bge-m3 on metadata\n",
      "================================================================================\n",
      "\n",
      "================================================================================\n",
      "FAISS EVALUATION - BGE-M3 - METADATA\n",
      "================================================================================\n",
      "\n",
      "Loading model: BAAI/bge-m3\n",
      "Library: flagembedding\n",
      "Device: cpu\n"
     ]
    },
    {
     "data": {
      "application/vnd.jupyter.widget-view+json": {
       "model_id": "38bb3681af73463b9e1d76e374826056",
       "version_major": 2,
       "version_minor": 0
      },
      "text/plain": [
       "Fetching 30 files:   0%|          | 0/30 [00:00<?, ?it/s]"
      ]
     },
     "metadata": {},
     "output_type": "display_data"
    },
    {
     "name": "stdout",
     "output_type": "stream",
     "text": [
      "Loading index from d:\\Core\\_Code D\\LegalAI-model-eval\\notebooks\\..\\indices\\metadata_bge-m3\\index.faiss...\n",
      "Index loaded with 7067 vectors\n",
      "Model: BAAI/bge-m3\n",
      "Dimension: 1024\n",
      "Processing query 1/10: What are the procedures for presidential elections...\n"
     ]
    },
    {
     "name": "stderr",
     "output_type": "stream",
     "text": [
      "pre tokenize: 100%|██████████| 1/1 [00:00<00:00, 1198.37it/s]\n",
      "You're using a XLMRobertaTokenizerFast tokenizer. Please note that with a fast tokenizer, using the `__call__` method is faster than using a method to encode the text followed by a call to the `pad` method to get a padded encoding.\n",
      "Inference Embeddings: 100%|██████████| 1/1 [00:00<00:00,  3.44it/s]\n"
     ]
    },
    {
     "name": "stdout",
     "output_type": "stream",
     "text": [
      "Processing query 2/10: What are the tax obligations and payment requireme...\n"
     ]
    },
    {
     "name": "stderr",
     "output_type": "stream",
     "text": [
      "pre tokenize: 100%|██████████| 1/1 [00:00<00:00, 1195.98it/s]\n",
      "Inference Embeddings: 100%|██████████| 1/1 [00:00<00:00,  3.30it/s]\n"
     ]
    },
    {
     "name": "stdout",
     "output_type": "stream",
     "text": [
      "Processing query 3/10: What are the penalty provisions for bribery and un...\n"
     ]
    },
    {
     "name": "stderr",
     "output_type": "stream",
     "text": [
      "pre tokenize: 100%|██████████| 1/1 [00:00<00:00, 1421.80it/s]\n",
      "Inference Embeddings: 100%|██████████| 1/1 [00:00<00:00,  2.89it/s]\n"
     ]
    },
    {
     "name": "stdout",
     "output_type": "stream",
     "text": [
      "Processing query 4/10: What is the process for filing appeals to the Boar...\n"
     ]
    },
    {
     "name": "stderr",
     "output_type": "stream",
     "text": [
      "pre tokenize: 100%|██████████| 1/1 [00:00<00:00, 875.64it/s]\n",
      "Inference Embeddings: 100%|██████████| 1/1 [00:00<00:00,  3.20it/s]\n"
     ]
    },
    {
     "name": "stdout",
     "output_type": "stream",
     "text": [
      "Processing query 5/10: What are the voting procedures and ballot requirem...\n"
     ]
    },
    {
     "name": "stderr",
     "output_type": "stream",
     "text": [
      "pre tokenize: 100%|██████████| 1/1 [00:00<00:00, 998.88it/s]\n",
      "Inference Embeddings: 100%|██████████| 1/1 [00:00<00:00,  3.13it/s]\n"
     ]
    },
    {
     "name": "stdout",
     "output_type": "stream",
     "text": [
      "Processing query 6/10: How are taxes assessed and collected, and what pow...\n"
     ]
    },
    {
     "name": "stderr",
     "output_type": "stream",
     "text": [
      "pre tokenize: 100%|██████████| 1/1 [00:00<00:00, 1441.34it/s]\n",
      "Inference Embeddings: 100%|██████████| 1/1 [00:00<00:00,  2.81it/s]\n"
     ]
    },
    {
     "name": "stdout",
     "output_type": "stream",
     "text": [
      "Processing query 7/10: What are the establishment provisions and governan...\n"
     ]
    },
    {
     "name": "stderr",
     "output_type": "stream",
     "text": [
      "pre tokenize: 100%|██████████| 1/1 [00:00<00:00, 1079.89it/s]\n",
      "Inference Embeddings: 100%|██████████| 1/1 [00:00<00:00,  3.08it/s]\n"
     ]
    },
    {
     "name": "stdout",
     "output_type": "stream",
     "text": [
      "Processing query 8/10: What are the import duty requirements and customs ...\n"
     ]
    },
    {
     "name": "stderr",
     "output_type": "stream",
     "text": [
      "pre tokenize: 100%|██████████| 1/1 [00:00<00:00, 1590.56it/s]\n",
      "Inference Embeddings: 100%|██████████| 1/1 [00:00<00:00,  3.03it/s]\n"
     ]
    },
    {
     "name": "stdout",
     "output_type": "stream",
     "text": [
      "Processing query 9/10: What is the nomination process and requirements fo...\n"
     ]
    },
    {
     "name": "stderr",
     "output_type": "stream",
     "text": [
      "pre tokenize: 100%|██████████| 1/1 [00:00<00:00, 999.36it/s]\n",
      "Inference Embeddings: 100%|██████████| 1/1 [00:00<00:00,  2.86it/s]\n"
     ]
    },
    {
     "name": "stdout",
     "output_type": "stream",
     "text": [
      "Processing query 10/10: What are the powers and functions of the Commissio...\n"
     ]
    },
    {
     "name": "stderr",
     "output_type": "stream",
     "text": [
      "pre tokenize: 100%|██████████| 1/1 [00:00<00:00, 1064.81it/s]\n",
      "Inference Embeddings: 100%|██████████| 1/1 [00:00<00:00,  3.34it/s]\n"
     ]
    },
    {
     "name": "stdout",
     "output_type": "stream",
     "text": [
      "\n",
      "Results:\n",
      "  Average retrieval time: 0.6932 seconds\n",
      "  Total queries: 10\n",
      "================================================================================\n",
      "\n",
      "Results saved to: d:\\Core\\_Code D\\LegalAI-model-eval\\notebooks\\..\\results\\faiss_bge-m3_metadata_results.json\n",
      "\n",
      "✓ Completed 8 evaluations\n"
     ]
    }
   ],
   "source": [
    "# Store all results\n",
    "all_results = {}\n",
    "\n",
    "for model_key in EMBEDDING_MODELS.keys():\n",
    "    for field in ['content', 'metadata']:\n",
    "        index_dir = INDICES_DIR / f\"{field}_{model_key}\"\n",
    "        index_file = index_dir / \"index.faiss\"\n",
    "        \n",
    "        if not index_file.exists():\n",
    "            print(f\"Skipping {field}_{model_key} - index not found\")\n",
    "            continue\n",
    "        \n",
    "        print(f\"\\n{'='*80}\")\n",
    "        print(f\"Evaluating: {model_key} on {field}\")\n",
    "        print(f\"{'='*80}\")\n",
    "        \n",
    "        # Evaluate\n",
    "        results = evaluate_faiss(\n",
    "            model_key=model_key,\n",
    "            queries=queries,\n",
    "            field_name=field,\n",
    "            top_k=TOP_K\n",
    "        )\n",
    "        \n",
    "        # Store results\n",
    "        key = f\"faiss_{model_key}_{field}\"\n",
    "        all_results[key] = results\n",
    "        \n",
    "        # Save individual results\n",
    "        output_file = RESULTS_DIR / f\"{key}_results.json\"\n",
    "        with open(output_file, 'w') as f:\n",
    "            json.dump(results, f, indent=2)\n",
    "        print(f\"Results saved to: {output_file}\")\n",
    "\n",
    "print(f\"\\n✓ Completed {len(all_results)} evaluations\")"
   ]
  },
  {
   "cell_type": "markdown",
   "id": "9c9bdcc8",
   "metadata": {},
   "source": [
    "## 4. Compare Models on Content Field"
   ]
  },
  {
   "cell_type": "code",
   "execution_count": 5,
   "id": "12466caf",
   "metadata": {},
   "outputs": [
    {
     "name": "stdout",
     "output_type": "stream",
     "text": [
      "Content Field - Model Comparison:\n",
      "     Model  Avg Time (s)                      Model Name\n",
      "legal-bert      0.079832 nlpaueb/legal-bert-base-uncased\n",
      " gte-large      0.268327              thenlper/gte-large\n",
      " bge-large      0.473017          BAAI/bge-large-en-v1.5\n",
      "    bge-m3      0.804516                     BAAI/bge-m3\n"
     ]
    },
    {
     "data": {
      "image/png": "[encoded data removed]",
      "text/plain": [
       "<Figure size 1000x600 with 1 Axes>"
      ]
     },
     "metadata": {},
     "output_type": "display_data"
    }
   ],
   "source": [
    "# Compare retrieval times for content field\n",
    "content_results = {k: v for k, v in all_results.items() if 'content' in k}\n",
    "\n",
    "if content_results:\n",
    "    comparison_data = []\n",
    "    \n",
    "    for key, results in content_results.items():\n",
    "        model = results['model']\n",
    "        comparison_data.append({\n",
    "            'Model': model,\n",
    "            'Avg Time (s)': results['avg_retrieval_time'],\n",
    "            'Model Name': results['model_name']\n",
    "        })\n",
    "    \n",
    "    comparison_df = pd.DataFrame(comparison_data)\n",
    "    \n",
    "    print(\"Content Field - Model Comparison:\")\n",
    "    print(comparison_df.to_string(index=False))\n",
    "    \n",
    "    # Visualize\n",
    "    plt.figure(figsize=(10, 6))\n",
    "    plt.bar(comparison_df['Model'], comparison_df['Avg Time (s)'])\n",
    "    plt.xlabel('Model')\n",
    "    plt.ylabel('Average Retrieval Time (seconds)')\n",
    "    plt.title('FAISS Retrieval Time - Content Field')\n",
    "    plt.xticks(rotation=45)\n",
    "    plt.tight_layout()\n",
    "    plt.show()"
   ]
  },
  {
   "cell_type": "markdown",
   "id": "21ccbc04",
   "metadata": {},
   "source": [
    "## 5. Compare Models on Metadata Field"
   ]
  },
  {
   "cell_type": "code",
   "execution_count": 6,
   "id": "48deac3d",
   "metadata": {},
   "outputs": [
    {
     "name": "stdout",
     "output_type": "stream",
     "text": [
      "Metadata Field - Model Comparison:\n",
      "     Model  Avg Time (s)                      Model Name\n",
      "legal-bert      0.073752 nlpaueb/legal-bert-base-uncased\n",
      " gte-large      0.299553              thenlper/gte-large\n",
      " bge-large      0.331123          BAAI/bge-large-en-v1.5\n",
      "    bge-m3      0.693152                     BAAI/bge-m3\n"
     ]
    },
    {
     "data": {
      "image/png": "[encoded data removed]",
      "text/plain": [
       "<Figure size 1000x600 with 1 Axes>"
      ]
     },
     "metadata": {},
     "output_type": "display_data"
    }
   ],
   "source": [
    "# Compare retrieval times for metadata field\n",
    "metadata_results = {k: v for k, v in all_results.items() if 'metadata' in k}\n",
    "\n",
    "if metadata_results:\n",
    "    comparison_data = []\n",
    "    \n",
    "    for key, results in metadata_results.items():\n",
    "        model = results['model']\n",
    "        comparison_data.append({\n",
    "            'Model': model,\n",
    "            'Avg Time (s)': results['avg_retrieval_time'],\n",
    "            'Model Name': results['model_name']\n",
    "        })\n",
    "    \n",
    "    comparison_df = pd.DataFrame(comparison_data)\n",
    "    \n",
    "    print(\"Metadata Field - Model Comparison:\")\n",
    "    print(comparison_df.to_string(index=False))\n",
    "    \n",
    "    # Visualize\n",
    "    plt.figure(figsize=(10, 6))\n",
    "    plt.bar(comparison_df['Model'], comparison_df['Avg Time (s)'])\n",
    "    plt.xlabel('Model')\n",
    "    plt.ylabel('Average Retrieval Time (seconds)')\n",
    "    plt.title('FAISS Retrieval Time - Metadata Field')\n",
    "    plt.xticks(rotation=45)\n",
    "    plt.tight_layout()\n",
    "    plt.show()"
   ]
  },
  {
   "cell_type": "markdown",
   "id": "b3126514",
   "metadata": {},
   "source": [
    "## 6. Analyze Query-Specific Results"
   ]
  },
  {
   "cell_type": "code",
   "execution_count": 7,
   "id": "25c7bf86",
   "metadata": {},
   "outputs": [
    {
     "name": "stdout",
     "output_type": "stream",
     "text": [
      "\n",
      "================================================================================\n",
      "QUERY 1: What are the procedures for presidential elections when the office becomes vacant?\n",
      "Field: content\n",
      "================================================================================\n",
      "\n",
      "\n",
      "--- LEGAL-BERT ---\n",
      "\n",
      "Query: What are the procedures for presidential elections when the office becomes vacant?\n",
      "================================================================================\n",
      "\n",
      "Rank 1 (Score: 0.8258):\n",
      "  Key: 2016-6-07\n",
      "  Title: Asian Infrastructure Investment Bank Agreement (Ratification)\n",
      "  Content (first 200 chars): 44 Act, No. 7 of 2016\n",
      " (c)\n",
      "The votes of all the Governors who cast votes for each\n",
      "candidate shall be added in descending order of number,\n",
      "until the number of votes representing the applicable\n",
      "Adjustme...\n",
      "\n",
      "Rank 2 (Score: 0.8217):\n",
      "  Key: 1981-2-04\n",
      "  Title: Consular Functions\n",
      "  Content (first 200 chars): . Annual subscription of Bills and Laws of the Parliament Rs. 30 (Local), Rs. 40 (Foreign). payable to the SUPERINTENDENT, GOVERNMENT PUBLICATIONS BUREAU, P. O. Box 500, COLOMBO 1, before 15th Decembe...\n",
      "\n",
      "Rank 3 (Score: 0.8122):\n",
      "  Key: 2017-9-17\n",
      "  Title: Provincial Councils Elections (Amendment)\n",
      "  Content (first 200 chars): Act, No. 17 of 2017\n",
      " within four (4) months of its appointment and\n",
      "thereafter submit its report to the Minister.\n",
      " (8) The Committee shall endeavour to arrive\n",
      "at a consensus in deciding on the matters\n",
      "...\n",
      "\n",
      "\n",
      "--- GTE-LARGE ---\n",
      "\n",
      "Query: What are the procedures for presidential elections when the office becomes vacant?\n",
      "================================================================================\n",
      "\n",
      "Rank 1 (Score: 0.8558):\n",
      "  Key: 1981-3-15\n",
      "  Title: Presidential Elections\n",
      "  Content (first 200 chars): 3 Act, No. 15 of 1981 trict. Such statement shall be certified by him and witnessed by any authorized agent who desires to do so and thereupon such statement shall be forwarded to the Commissioner. Th...\n",
      "\n",
      "Rank 2 (Score: 0.8514):\n",
      "  Key: 1981-3-15\n",
      "  Title: Presidential Elections\n",
      "  Content (first 200 chars): 12 Act, No. 15 of 1981 Procedure 22. (1) If, after the adjournment of an election for a candidate where poll to be taken, a candidate nominated by a recognized dies. political party or any other polit...\n",
      "\n",
      "Rank 3 (Score: 0.8512):\n",
      "  Key: 2009-7-35\n",
      "  Title: Chief of Defence Staff\n",
      "  Content (first 200 chars): Act, No. 35 of 2009\n",
      " 3.\n",
      "(1) Th shall, subject to the\n",
      "pleasure of the President, hold office for a term of two years.\n",
      " (2) An officer serving as th shall\n",
      "be eligible to be reappointed in like manner fo...\n",
      "\n",
      "\n",
      "--- BGE-LARGE ---\n",
      "\n",
      "Query: What are the procedures for presidential elections when the office becomes vacant?\n",
      "================================================================================\n",
      "\n",
      "Rank 1 (Score: 0.6697):\n",
      "  Key: 1981-1-02\n",
      "  Title: Presidential Elections (Special Provisions)\n",
      "  Content (first 200 chars): C ACT, No. 2 OF 1981 [Certified on 29th January, 1981]  Published as a Supplement to Part II of the Gazette of the Democratic Socialist Republic of Sri Lanka of January 30. 1981     Act, No. 2 of 1981...\n",
      "\n",
      "Rank 2 (Score: 0.6642):\n",
      "  Key: 1981-3-15\n",
      "  Title: Presidential Elections\n",
      "  Content (first 200 chars): 12 Act, No. 15 of 1981 Procedure 22. (1) If, after the adjournment of an election for a candidate where poll to be taken, a candidate nominated by a recognized dies. political party or any other polit...\n",
      "\n",
      "Rank 3 (Score: 0.6569):\n",
      "  Key: 2009-7-35\n",
      "  Title: Chief of Defence Staff\n",
      "  Content (first 200 chars): Act, No. 35 of 2009\n",
      " 3.\n",
      "(1) Th shall, subject to the\n",
      "pleasure of the President, hold office for a term of two years.\n",
      " (2) An officer serving as th shall\n",
      "be eligible to be reappointed in like manner fo...\n",
      "\n",
      "\n",
      "--- BGE-M3 ---\n",
      "\n",
      "Query: What are the procedures for presidential elections when the office becomes vacant?\n",
      "================================================================================\n",
      "\n",
      "Rank 1 (Score: 0.6144):\n",
      "  Key: 1981-1-02\n",
      "  Title: Presidential Elections (Special Provisions)\n",
      "  Content (first 200 chars): Act, No. 2 of 1981 Declaration 11. Where any candidate has received more than one where a candidate half of the valid votes cast, the returning officer shall forthreceives with declare such candidate ...\n",
      "\n",
      "Rank 2 (Score: 0.6124):\n",
      "  Key: 1981-1-02\n",
      "  Title: Presidential Elections (Special Provisions)\n",
      "  Content (first 200 chars): C ACT, No. 2 OF 1981 [Certified on 29th January, 1981]  Published as a Supplement to Part II of the Gazette of the Democratic Socialist Republic of Sri Lanka of January 30. 1981     Act, No. 2 of 1981...\n",
      "\n",
      "Rank 3 (Score: 0.5688):\n",
      "  Key: 1981-1-02\n",
      "  Title: Presidential Elections (Special Provisions)\n",
      "  Content (first 200 chars): Act, No. 2 of 1981 (2) A member who wishes to propose any other member for election to the office of President shall obtain prior written consent of the member whom he wishes to propose indicating tha...\n",
      "\n"
     ]
    }
   ],
   "source": [
    "# Compare all models for a specific query\n",
    "def compare_models_for_query(query_id, field='content'):\n",
    "    \"\"\"Compare all models for a specific query.\"\"\"\n",
    "    query = queries[query_id - 1]\n",
    "    \n",
    "    print(f\"\\n{'='*80}\")\n",
    "    print(f\"QUERY {query_id}: {query['query']}\")\n",
    "    print(f\"Field: {field}\")\n",
    "    print(f\"{'='*80}\\n\")\n",
    "    \n",
    "    for model_key in EMBEDDING_MODELS.keys():\n",
    "        key = f\"faiss_{model_key}_{field}\"\n",
    "        if key in all_results:\n",
    "            results = all_results[key]\n",
    "            query_result = results['results'][query_id - 1]\n",
    "            \n",
    "            print(f\"\\n--- {model_key.upper()} ---\")\n",
    "            print_query_results(\n",
    "                df=df,\n",
    "                query=query['query'],\n",
    "                indices=query_result['retrieved_indices'],\n",
    "                scores=query_result['scores'],\n",
    "                top_n=3,\n",
    "                field=field\n",
    "            )\n",
    "\n",
    "# Example: Compare models for query 1 on content\n",
    "compare_models_for_query(1, 'content')"
   ]
  },
  {
   "cell_type": "code",
   "execution_count": 8,
   "id": "54801c96",
   "metadata": {},
   "outputs": [
    {
     "name": "stdout",
     "output_type": "stream",
     "text": [
      "\n",
      "Query 1: What are the procedures for presidential elections when the office becomes vacant?\n",
      "Field: content\n",
      "\n",
      "Pairwise Overlap (Jaccard Similarity):\n",
      "\n",
      "legal-bert vs gte-large: 5.26%\n",
      "legal-bert vs bge-large: 11.11%\n",
      "legal-bert vs bge-m3: 0.00%\n",
      "gte-large vs bge-large: 53.85%\n",
      "gte-large vs bge-m3: 42.86%\n",
      "bge-large vs bge-m3: 33.33%\n"
     ]
    }
   ],
   "source": [
    "# Compare overlap between models for a query\n",
    "def analyze_model_overlap(query_id, field='content'):\n",
    "    \"\"\"Analyze overlap in results between different models.\"\"\"\n",
    "    query = queries[query_id - 1]\n",
    "    \n",
    "    print(f\"\\nQuery {query_id}: {query['query']}\")\n",
    "    print(f\"Field: {field}\\n\")\n",
    "    \n",
    "    # Get results from all models\n",
    "    model_results = {}\n",
    "    for model_key in EMBEDDING_MODELS.keys():\n",
    "        key = f\"faiss_{model_key}_{field}\"\n",
    "        if key in all_results:\n",
    "            query_result = all_results[key]['results'][query_id - 1]\n",
    "            model_results[model_key] = query_result['retrieved_indices']\n",
    "    \n",
    "    # Calculate pairwise overlap\n",
    "    models = list(model_results.keys())\n",
    "    print(\"Pairwise Overlap (Jaccard Similarity):\\n\")\n",
    "    \n",
    "    for i, model1 in enumerate(models):\n",
    "        for model2 in models[i+1:]:\n",
    "            overlap = calculate_overlap(model_results[model1], model_results[model2])\n",
    "            print(f\"{model1} vs {model2}: {overlap:.2%}\")\n",
    "\n",
    "# Example analysis\n",
    "analyze_model_overlap(1, 'content')"
   ]
  },
  {
   "cell_type": "markdown",
   "id": "0cdd691e",
   "metadata": {},
   "source": [
    "## 7. Overall Performance Comparison"
   ]
  },
  {
   "cell_type": "code",
   "execution_count": 9,
   "id": "a054285c",
   "metadata": {},
   "outputs": [
    {
     "name": "stdout",
     "output_type": "stream",
     "text": [
      "\n",
      "FAISS Retrieval Performance Summary:\n",
      "================================================================================\n",
      "                   Method    Field  Avg Retrieval Time (s)  Num Queries Num Documents      Model\n",
      " faiss_legal-bert_content  content                0.079832           10           N/A legal-bert\n",
      "faiss_legal-bert_metadata metadata                0.073752           10           N/A legal-bert\n",
      "  faiss_gte-large_content  content                0.268327           10           N/A  gte-large\n",
      " faiss_gte-large_metadata metadata                0.299553           10           N/A  gte-large\n",
      "  faiss_bge-large_content  content                0.473017           10           N/A  bge-large\n",
      " faiss_bge-large_metadata metadata                0.331123           10           N/A  bge-large\n",
      "     faiss_bge-m3_content  content                0.804516           10           N/A     bge-m3\n",
      "    faiss_bge-m3_metadata metadata                0.693152           10           N/A     bge-m3\n",
      "\n",
      "Comparison table saved to: d:\\Core\\_Code D\\LegalAI-model-eval\\notebooks\\..\\results\\faiss_comparison.csv\n"
     ]
    }
   ],
   "source": [
    "# Create comprehensive comparison table\n",
    "comparison_table = create_comparison_table(all_results)\n",
    "\n",
    "print(\"\\nFAISS Retrieval Performance Summary:\")\n",
    "print(\"=\"*80)\n",
    "print(comparison_table.to_string(index=False))\n",
    "\n",
    "# Save comparison\n",
    "comparison_table.to_csv(RESULTS_DIR / \"faiss_comparison.csv\", index=False)\n",
    "print(f\"\\nComparison table saved to: {RESULTS_DIR / 'faiss_comparison.csv'}\")"
   ]
  },
  {
   "cell_type": "code",
   "execution_count": 10,
   "id": "07d92b39",
   "metadata": {},
   "outputs": [
    {
     "data": {
      "image/png": "[encoded data removed]",
      "text/plain": [
       "<Figure size 1400x600 with 1 Axes>"
      ]
     },
     "metadata": {},
     "output_type": "display_data"
    }
   ],
   "source": [
    "# Visualize all retrieval times\n",
    "if len(all_results) > 0:\n",
    "    fig, ax = plt.subplots(figsize=(14, 6))\n",
    "    \n",
    "    methods = []\n",
    "    times = []\n",
    "    colors = []\n",
    "    \n",
    "    for key, results in all_results.items():\n",
    "        label = f\"{results['model']}\\n({results['field']})\"\n",
    "        methods.append(label)\n",
    "        times.append(results['avg_retrieval_time'])\n",
    "        colors.append('skyblue' if results['field'] == 'content' else 'lightcoral')\n",
    "    \n",
    "    ax.barh(methods, times, color=colors)\n",
    "    ax.set_xlabel('Average Retrieval Time (seconds)')\n",
    "    ax.set_title('FAISS Retrieval Performance - All Configurations')\n",
    "    ax.grid(axis='x', alpha=0.3)\n",
    "    \n",
    "    # Add legend\n",
    "    from matplotlib.patches import Patch\n",
    "    legend_elements = [\n",
    "        Patch(facecolor='skyblue', label='Content'),\n",
    "        Patch(facecolor='lightcoral', label='Metadata')\n",
    "    ]\n",
    "    ax.legend(handles=legend_elements, loc='lower right')\n",
    "    \n",
    "    plt.tight_layout()\n",
    "    plt.show()"
   ]
  },
  {
   "cell_type": "markdown",
   "id": "d98622dc",
   "metadata": {},
   "source": [
    "## 8. Retrieval Diversity Analysis"
   ]
  },
  {
   "cell_type": "code",
   "execution_count": 11,
   "id": "c57fc31f",
   "metadata": {},
   "outputs": [
    {
     "name": "stdout",
     "output_type": "stream",
     "text": [
      "Retrieval Diversity Analysis:\n",
      "================================================================================\n",
      "\n",
      "faiss_legal-bert_content:\n",
      "\n",
      "Diversity Analysis:\n",
      "  Total unique documents retrieved: 63\n",
      "  Total unique acts retrieved: 44\n",
      "  Number of queries: 10\n",
      "  Avg unique docs per query: 6.30\n",
      "\n",
      "faiss_legal-bert_metadata:\n",
      "\n",
      "Diversity Analysis:\n",
      "  Total unique documents retrieved: 84\n",
      "  Total unique acts retrieved: 45\n",
      "  Number of queries: 10\n",
      "  Avg unique docs per query: 8.40\n",
      "\n",
      "faiss_gte-large_content:\n",
      "\n",
      "Diversity Analysis:\n",
      "  Total unique documents retrieved: 96\n",
      "  Total unique acts retrieved: 40\n",
      "  Number of queries: 10\n",
      "  Avg unique docs per query: 9.60\n",
      "\n",
      "faiss_gte-large_metadata:\n",
      "\n",
      "Diversity Analysis:\n",
      "  Total unique documents retrieved: 96\n",
      "  Total unique acts retrieved: 27\n",
      "  Number of queries: 10\n",
      "  Avg unique docs per query: 9.60\n",
      "\n",
      "faiss_bge-large_content:\n",
      "\n",
      "Diversity Analysis:\n",
      "  Total unique documents retrieved: 95\n",
      "  Total unique acts retrieved: 43\n",
      "  Number of queries: 10\n",
      "  Avg unique docs per query: 9.50\n",
      "\n",
      "faiss_bge-large_metadata:\n",
      "\n",
      "Diversity Analysis:\n",
      "  Total unique documents retrieved: 95\n",
      "  Total unique acts retrieved: 30\n",
      "  Number of queries: 10\n",
      "  Avg unique docs per query: 9.50\n",
      "\n",
      "faiss_bge-m3_content:\n",
      "\n",
      "Diversity Analysis:\n",
      "  Total unique documents retrieved: 93\n",
      "  Total unique acts retrieved: 44\n",
      "  Number of queries: 10\n",
      "  Avg unique docs per query: 9.30\n",
      "\n",
      "faiss_bge-m3_metadata:\n",
      "\n",
      "Diversity Analysis:\n",
      "  Total unique documents retrieved: 87\n",
      "  Total unique acts retrieved: 34\n",
      "  Number of queries: 10\n",
      "  Avg unique docs per query: 8.70\n"
     ]
    }
   ],
   "source": [
    "# Analyze diversity of retrieved documents\n",
    "from src.evaluation import analyze_retrieval_diversity, print_diversity_analysis\n",
    "\n",
    "print(\"Retrieval Diversity Analysis:\")\n",
    "print(\"=\"*80)\n",
    "\n",
    "for key, results in all_results.items():\n",
    "    print(f\"\\n{key}:\")\n",
    "    diversity = analyze_retrieval_diversity(results, df)\n",
    "    print_diversity_analysis(diversity)"
   ]
  },
  {
   "cell_type": "markdown",
   "id": "9e3b6479",
   "metadata": {},
   "source": [
    "## Summary\n",
    "\n",
    "FAISS retrieval evaluation complete!\n",
    "\n",
    "Key findings:\n",
    "- Tested 3 embedding models (Legal-BERT, GTE-Large, BGE-Large)\n",
    "- Evaluated on both content and metadata fields\n",
    "- All results saved for further analysis and comparison\n",
    "- Retrieval times measured on CPU\n",
    "\n",
    "Model characteristics:\n",
    "- **Legal-BERT**: Domain-specific, may excel on legal terminology\n",
    "- **GTE-Large**: General-purpose SOTA, strong cross-domain performance  \n",
    "- **BGE-Large**: Top retrieval model, excellent for ranking tasks\n",
    "\n",
    "Next steps:\n",
    "- Compare with BM25 results (notebook 02)\n",
    "- Apply reranking to improve results (notebook 05)\n",
    "- Analyze which model works best for different query types"
   ]
  }
 ],
 "metadata": {
  "kernelspec": {
   "display_name": "Python 3",
   "language": "python",
   "name": "python3"
  },
  "language_info": {
   "codemirror_mode": {
    "name": "ipython",
    "version": 3
   },
   "file_extension": ".py",
   "mimetype": "text/x-python",
   "name": "python",
   "nbconvert_exporter": "python",
   "pygments_lexer": "ipython3",
   "version": "3.13.2"
  }
 },
 "nbformat": 4,
 "nbformat_minor": 5
}
