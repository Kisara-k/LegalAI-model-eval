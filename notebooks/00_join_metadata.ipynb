{
 "cells": [
  {
   "cell_type": "markdown",
   "id": "11874f2c",
   "metadata": {},
   "source": [
    "# Join Metadata Fields\n",
    "\n",
    "Join `short_title`, `keywords`, `section_title`, `summary` into a single `metadata` field for BM25 and FAISS retrieval."
   ]
  },
  {
   "cell_type": "code",
   "execution_count": 2,
   "id": "43a0a4ed",
   "metadata": {},
   "outputs": [
    {
     "name": "stdout",
     "output_type": "stream",
     "text": [
      "✓ Processed 7,067 records\n",
      "✓ Saved to: ..\\data\\acts_with_metadata.tsv\n"
     ]
    }
   ],
   "source": [
    "import pandas as pd\n",
    "from pathlib import Path\n",
    "\n",
    "# Load dataset\n",
    "df = pd.read_csv(\"../data/acts_with_metadata.tsv\", sep=\"\\t\", encoding=\"utf-8\")\n",
    "\n",
    "# Join metadata fields\n",
    "df['metadata'] = (\n",
    "    df['short_title'].fillna('') + ' ' +\n",
    "    df['section_title'].fillna('') + ' ' +\n",
    "    df['keywords'].fillna('') + ' ' +\n",
    "    df['summary'].fillna('')\n",
    ").str.strip()\n",
    "\n",
    "# Save\n",
    "output_file = Path(\"../data/acts_with_metadata.tsv\")\n",
    "df.to_csv(output_file, sep=\"\\t\", index=False, encoding=\"utf-8\")\n",
    "\n",
    "print(f\"✓ Processed {len(df):,} records\")\n",
    "print(f\"✓ Saved to: {output_file}\")"
   ]
  },
  {
   "cell_type": "code",
   "execution_count": null,
   "id": "c0ec1044",
   "metadata": {},
   "outputs": [],
   "source": []
  }
 ],
 "metadata": {
  "kernelspec": {
   "display_name": "Python 3",
   "language": "python",
   "name": "python3"
  },
  "language_info": {
   "codemirror_mode": {
    "name": "ipython",
    "version": 3
   },
   "file_extension": ".py",
   "mimetype": "text/x-python",
   "name": "python",
   "nbconvert_exporter": "python",
   "pygments_lexer": "ipython3",
   "version": "3.13.2"
  }
 },
 "nbformat": 4,
 "nbformat_minor": 5
}
